{
  "nbformat": 4,
  "nbformat_minor": 0,
  "metadata": {
    "colab": {
      "name": "Soccer Match - Machine Learning Notebook",
      "provenance": [],
      "collapsed_sections": []
    },
    "kernelspec": {
      "name": "python3",
      "display_name": "Python 3"
    },
    "language_info": {
      "name": "python"
    }
  },
  "cells": [
    {
      "cell_type": "code",
      "metadata": {
        "colab": {
          "base_uri": "https://localhost:8080/"
        },
        "id": "ZvCcDljcj0_J",
        "outputId": "c1625951-1e6b-42c3-b04f-acba86e622a0"
      },
      "source": [
        "from google.colab import drive\n",
        "drive.mount('/content/gdrive')"
      ],
      "execution_count": 12,
      "outputs": [
        {
          "output_type": "stream",
          "name": "stdout",
          "text": [
            "Drive already mounted at /content/gdrive; to attempt to forcibly remount, call drive.mount(\"/content/gdrive\", force_remount=True).\n"
          ]
        }
      ]
    },
    {
      "cell_type": "markdown",
      "metadata": {
        "id": "PpFpbJsS0n6T"
      },
      "source": [
        "# Data Formatting\n",
        "After importing the data into a pandas database, I make several adjustments to column names, indexing, dataframe size, NaN variables etc. in order to make my data appropriate and usable for my model. These formatting adjustments resulted in several samples being dropped due to the lack of samples that were available in the indepenedent dataframes."
      ]
    },
    {
      "cell_type": "code",
      "metadata": {
        "id": "bPU48i8hczG0",
        "colab": {
          "base_uri": "https://localhost:8080/"
        },
        "outputId": "e2257c7b-84a0-41f3-efba-d0ad2d1e711e"
      },
      "source": [
        "import numpy as np\n",
        "import pandas as pd\n",
        "\n",
        "#Import csv of match, team and attribute data\n",
        "mdata = pd.read_csv(\"/content/gdrive/MyDrive/Matches.csv\", encoding = \"ISO-8859-1\")\n",
        "tdata = pd.read_csv(\"/content/gdrive/MyDrive/Team.csv\", encoding = \"ISO-8859-1\")\n",
        "adata = pd.read_csv(\"/content/gdrive/MyDrive/Team_Attributes.csv\", encoding = \"ISO-8859-1\")\n",
        "\n",
        "#Format team data\n",
        "tdata = pd.DataFrame(np.vstack([tdata.columns, tdata]))\n",
        "tdata = tdata.dropna()\n",
        "tdata = tdata.reset_index()\n",
        "tdata = tdata[[1,2,3,4]]\n",
        "tdata.columns = [\"Team ID\", \"Attribute ID\", \"Team Name\", \"Team Abbreviation\"]\n",
        "\n",
        "#Format match data\n",
        "mdata = pd.DataFrame(np.vstack([mdata.columns, mdata]))\n",
        "mdata = mdata[[6,7,8,9,10]]\n",
        "mdata.columns = [\"Match ID\", \"Home Team ID\", \"Away Team ID\", \"Home Team Score\", \"Away Team Score\"]\n",
        "mdata = mdata.drop(columns='Match ID')\n",
        "mdata.at[0, 'Home Team Score'] = 1\n",
        "mdata.at[0, 'Away Team Score'] = 1\n",
        "\n",
        "#Adds additional column on the result according to the home team\n",
        "conditions = [(mdata['Home Team Score'] < mdata['Away Team Score']), (mdata['Home Team Score'] == mdata['Away Team Score']), (mdata['Home Team Score'] > mdata['Away Team Score'])]\n",
        "values = ['L', 'D', 'W']\n",
        "mdata['Result'] = np.select(conditions, values)\n",
        "\n",
        "#Format attribute data\n",
        "adata = pd.DataFrame(np.vstack([adata.columns, adata]))\n",
        "adata = adata.drop(columns=[0,3])\n",
        "adata.columns = [\"Attribute ID\", \"Team ID\", \"Build Up Play Speed\", \"Build Up Play Speed Class\", \"Build Up Play Dribbling\", \"Build Up Play Dribbling Class\", \"Build Up Play Passing\", \"Build Up Play Passing Class\", \"Build Up Play Positioning Class\", \"Chance Creation Passing\", \"Chance Creation Passing Class\", \"Chance Creation Crossing\", \"Chance Creation Crossing Class\", \"Chance Creation Shooting\", \"Chance Creation Shooting Class\", \"Chance Creation Positioning Class\", \"Defence Pressure\", \"Defence Pressure Class\", \"Defence Aggression\", \"Defence Aggression Class\", \"Defence Team Width\", \"Defence Team Width Class\", \"Defence Defender Line Class\"]\n",
        "adata = adata.drop_duplicates(subset=\"Attribute ID\", keep='last')\n",
        "adata = adata.drop(index=adata.index[0], axis=0)\n",
        "adata = adata.reset_index()\n",
        "adata = adata.drop(columns=\"index\")\n",
        "\n",
        "#Combine and format attribute and team data\n",
        "tadata = tdata.merge(adata, on = \"Team ID\") \n",
        "tadata = tadata.drop(columns=[\"Attribute ID_x\", \"Attribute ID_y\"])\n",
        "\n",
        "#Comdine match and team attribute data\n",
        "atadata = tadata.add_prefix('Away ')\n",
        "htadata = tadata.add_prefix('Home ')\n",
        "mtadata = pd.merge(mdata, atadata, on='Away Team ID', how='right')\n",
        "mtadata = pd.merge(mtadata, htadata, on='Home Team ID', how='right')\n",
        "\n",
        "mtadata"
      ],
      "execution_count": 13,
      "outputs": [
        {
          "output_type": "execute_result",
          "data": {
            "text/plain": [
              "(25101, 51)"
            ]
          },
          "metadata": {},
          "execution_count": 13
        }
      ]
    },
    {
      "cell_type": "markdown",
      "metadata": {
        "id": "ynouB26H1mi8"
      },
      "source": [
        "#Pre-processing"
      ]
    },
    {
      "cell_type": "markdown",
      "metadata": {
        "id": "CqfhkbZcnGT_"
      },
      "source": [
        "After all of my data was formatted, I had to encode the categorial features that needs to be used in the machine learning model along with filling the NaN values left for features that are to be used in the machine learning model. "
      ]
    },
    {
      "cell_type": "code",
      "source": [
        "#Replace nan with their most frequent column value\n",
        "from sklearn.impute import SimpleImputer\n",
        "\n",
        "imputer = SimpleImputer(strategy='most_frequent', missing_values=np.nan)\n",
        "imputer = imputer.fit(mtadata.iloc[:, 7:50])\n",
        "mtadata.iloc[:, 7:50] = imputer.transform(mtadata.iloc[:, 7:50])\n",
        "\n",
        "#Encode text features\n",
        "dummy = pd.get_dummies(mtadata.iloc[:,[8,10,12,13,15,17,19,20,22,24,26,27,31,33,35,36,38,40,42,43,45,47,49,50]])\n",
        "mtadata = mtadata.drop(mtadata.iloc[:,[8,10,12,13,15,17,19,20,22,24,26,27,31,33,35,36,38,40,42,43,45,47,49,50]], axis=1)\n",
        "mtadata = pd.concat([mtadata, dummy], axis=1)\n",
        "\n",
        "#Resort the columns\n",
        "cols = list(mtadata.columns.values) \n",
        "cols.pop(cols.index('Away Team Name')) \n",
        "cols.pop(cols.index('Away Team Abbreviation'))\n",
        "cols.pop(cols.index('Home Team Name')) \n",
        "cols.pop(cols.index('Home Team Abbreviation'))  \n",
        "mtadata = mtadata[['Away Team Name','Away Team Abbreviation','Home Team Name','Home Team Abbreviation']+cols] \n",
        "\n",
        "#Encode the label\n",
        "from sklearn.preprocessing import OrdinalEncoder\n",
        "\n",
        "oe = OrdinalEncoder(categories=[['L', 'D', 'W']])\n",
        "oe.fit(mtadata[['Result']])\n",
        "resultcat = oe.transform(mtadata[['Result']])\n",
        "mtadata.insert(9, 'Result Enc', resultcat)\n",
        "\n",
        "mtadata"
      ],
      "metadata": {
        "id": "ovIS72S_QN34"
      },
      "execution_count": 14,
      "outputs": []
    },
    {
      "cell_type": "markdown",
      "source": [
        "#Modeling\n"
      ],
      "metadata": {
        "id": "PFrgNGugC4VO"
      }
    },
    {
      "cell_type": "markdown",
      "source": [
        "Now that the data frame is finalized, I implemented models to predict the classification of the outcome of a match between two teams."
      ],
      "metadata": {
        "id": "CM5X4vgBDLDx"
      }
    },
    {
      "cell_type": "code",
      "source": [
        "import seaborn as sns\n",
        "import matplotlib.pyplot as plt\n",
        "\n",
        "#Seperate the features and the label\n",
        "X = mtadata.iloc[:,10:93]\n",
        "y = mtadata['Result Enc']\n",
        "\n",
        "from sklearn.model_selection import train_test_split\n",
        "X_train, X_test, y_train, y_test = train_test_split(X, y, test_size=0.60)"
      ],
      "metadata": {
        "id": "8ml0CX2E1PFL"
      },
      "execution_count": 15,
      "outputs": []
    },
    {
      "cell_type": "markdown",
      "source": [
        "##Naive Bayes\n",
        "These are naive bayes models applied to my data frame in order to predict the outcome of a match."
      ],
      "metadata": {
        "id": "EIugCxmi7vGa"
      }
    },
    {
      "cell_type": "code",
      "source": [
        "from sklearn.naive_bayes import GaussianNB  \n",
        "GNB = GaussianNB()  \n",
        "GNB.fit(X_train, y_train)\n",
        "y_pred = GNB.predict(X_test)\n",
        "\n",
        "from sklearn.model_selection import cross_val_score\n",
        "scores = cross_val_score(GNB, X, y, cv=5)\n",
        "\n",
        "print(scores)\n",
        "print(\"Accuracy: %0.2f (+/- %0.2f)\" % (scores.mean(), scores.std() * 2))\n",
        "\n",
        "from sklearn.metrics import confusion_matrix\n",
        "\n",
        "mat = confusion_matrix(y_test, y_pred)\n",
        "\n",
        "sns.heatmap(mat, square=True, annot=False, cbar=True, cmap='jet') #flag, YlGnBu, jet\n",
        "plt.xlabel('predicted value')\n",
        "plt.ylabel('true value');"
      ],
      "metadata": {
        "id": "67V77YZrDv7W",
        "colab": {
          "base_uri": "https://localhost:8080/",
          "height": 314
        },
        "outputId": "4daee6a3-a286-4355-f88d-469116f8a284"
      },
      "execution_count": 16,
      "outputs": [
        {
          "output_type": "stream",
          "name": "stdout",
          "text": [
            "[0.40410277 0.33964143 0.4189243  0.37788845 0.37370518]\n",
            "Accuracy: 0.38 (+/- 0.05)\n"
          ]
        },
        {
          "output_type": "display_data",
          "data": {
            "image/png": "[encoded data removed]",
            "text/plain": [
              "<Figure size 432x288 with 2 Axes>"
            ]
          },
          "metadata": {
            "needs_background": "light"
          }
        }
      ]
    },
    {
      "cell_type": "code",
      "source": [
        "#Better classifier for imbalanced data sets\n",
        "from sklearn.naive_bayes import ComplementNB \n",
        "CNB = ComplementNB()  \n",
        "CNB.fit(X_train, y_train)\n",
        "y_pred = CNB.predict(X_test)\n",
        "\n",
        "from sklearn.model_selection import cross_val_score\n",
        "scores = cross_val_score(CNB, X, y, cv=5)\n",
        "\n",
        "print(scores)\n",
        "print(\"Accuracy: %0.2f (+/- %0.2f)\" % (scores.mean(), scores.std() * 2))\n",
        "\n",
        "mat = confusion_matrix(y_test, y_pred)\n",
        "\n",
        "sns.heatmap(mat, square=True, annot=False, cbar=True, cmap='jet') #flag, YlGnBu, jet\n",
        "plt.xlabel('predicted value')\n",
        "plt.ylabel('true value');"
      ],
      "metadata": {
        "colab": {
          "base_uri": "https://localhost:8080/",
          "height": 314
        },
        "id": "YDW84GSL3q3N",
        "outputId": "dd0b8207-4932-44f6-8472-022f1d0a7a28"
      },
      "execution_count": 17,
      "outputs": [
        {
          "output_type": "stream",
          "name": "stdout",
          "text": [
            "[0.43636726 0.4498008  0.42689243 0.41474104 0.42390438]\n",
            "Accuracy: 0.43 (+/- 0.02)\n"
          ]
        },
        {
          "output_type": "display_data",
          "data": {
            "image/png": "[encoded data removed]",
            "text/plain": [
              "<Figure size 432x288 with 2 Axes>"
            ]
          },
          "metadata": {
            "needs_background": "light"
          }
        }
      ]
    },
    {
      "cell_type": "code",
      "source": [
        "#Better classifier for binary or boolean features\n",
        "from sklearn.naive_bayes import BernoulliNB  \n",
        "BNB = BernoulliNB()  \n",
        "BNB.fit(X_train, y_train)\n",
        "y_pred = BNB.predict(X_test)\n",
        "\n",
        "from sklearn.model_selection import cross_val_score\n",
        "scores = cross_val_score(BNB, X, y, cv=5)\n",
        "\n",
        "print(scores)\n",
        "print(\"Accuracy: %0.2f (+/- %0.2f)\" % (scores.mean(), scores.std() * 2))\n",
        "\n",
        "mat = confusion_matrix(y_test, y_pred)\n",
        "\n",
        "sns.heatmap(mat, square=True, annot=False, cbar=True, cmap='jet') #flag, YlGnBu, jet\n",
        "plt.xlabel('predicted value')\n",
        "plt.ylabel('true value');"
      ],
      "metadata": {
        "colab": {
          "base_uri": "https://localhost:8080/",
          "height": 314
        },
        "id": "FEEH8xZ-ZWxj",
        "outputId": "90dd0913-b802-4f0c-eec1-82c22b7ef5bb"
      },
      "execution_count": 18,
      "outputs": [
        {
          "output_type": "stream",
          "name": "stdout",
          "text": [
            "[0.45389365 0.4438247  0.46752988 0.41533865 0.47749004]\n",
            "Accuracy: 0.45 (+/- 0.04)\n"
          ]
        },
        {
          "output_type": "display_data",
          "data": {
            "image/png": "[encoded data removed]",
            "text/plain": [
              "<Figure size 432x288 with 2 Axes>"
            ]
          },
          "metadata": {
            "needs_background": "light"
          }
        }
      ]
    },
    {
      "cell_type": "code",
      "source": [
        "#Better classifier for discrete data\n",
        "from sklearn.naive_bayes import MultinomialNB  \n",
        "MNB = MultinomialNB()  \n",
        "MNB.fit(X_train, y_train)\n",
        "y_pred = MNB.predict(X_test)\n",
        "\n",
        "from sklearn.model_selection import cross_val_score\n",
        "scores = cross_val_score(MNB, X, y, cv=5)\n",
        "\n",
        "print(scores)\n",
        "print(\"Accuracy: %0.2f (+/- %0.2f)\" % (scores.mean(), scores.std() * 2))\n",
        "\n",
        "mat = confusion_matrix(y_test, y_pred)\n",
        "\n",
        "sns.heatmap(mat, square=True, annot=False, cbar=True, cmap='jet') #flag, YlGnBu, jet\n",
        "plt.xlabel('predicted value')\n",
        "plt.ylabel('true value');"
      ],
      "metadata": {
        "colab": {
          "base_uri": "https://localhost:8080/",
          "height": 314
        },
        "id": "PhiVYZCV3JP6",
        "outputId": "3921fffb-0209-4a86-dacb-d4a5bc5fec35"
      },
      "execution_count": 19,
      "outputs": [
        {
          "output_type": "stream",
          "name": "stdout",
          "text": [
            "[0.46604262 0.47709163 0.46095618 0.42609562 0.45996016]\n",
            "Accuracy: 0.46 (+/- 0.03)\n"
          ]
        },
        {
          "output_type": "display_data",
          "data": {
            "image/png": "[encoded data removed]",
            "text/plain": [
              "<Figure size 432x288 with 2 Axes>"
            ]
          },
          "metadata": {
            "needs_background": "light"
          }
        }
      ]
    },
    {
      "cell_type": "markdown",
      "source": [
        "##Support Vector Machines (SVM)\n",
        "Unfortunately, with a large dataset, (see below), and the fact that most SVM algorithms scale super linearly with the number of data points. The runtime of the training doesn't complete in a feasbile amount of time."
      ],
      "metadata": {
        "id": "ULRjQpyZ8L6e"
      }
    },
    {
      "cell_type": "code",
      "source": [
        "mtadata.shape"
      ],
      "metadata": {
        "colab": {
          "base_uri": "https://localhost:8080/"
        },
        "id": "cRKoNs4OEvxK",
        "outputId": "626970a4-a181-4bac-fce4-63be06d476c8"
      },
      "execution_count": 20,
      "outputs": [
        {
          "output_type": "execute_result",
          "data": {
            "text/plain": [
              "(25101, 94)"
            ]
          },
          "metadata": {},
          "execution_count": 20
        }
      ]
    },
    {
      "cell_type": "markdown",
      "source": [
        "Disclaimer: Not for commercial use. Sourced from:\n",
        "\n",
        "http://football-data.mx-api.enetscores.com/ : scores and team formation\n",
        "\n",
        "http://sofifa.com/ : players and teams attributes from EA Sports FIFA games. FIFA series and all FIFA assets property of EA Sports.\n",
        "\n",
        "Data collection and processing has been done by:\n",
        "https://www.kaggle.com/hugomathien"
      ],
      "metadata": {
        "id": "CYg0dVC7JM69"
      }
    }
  ]
}